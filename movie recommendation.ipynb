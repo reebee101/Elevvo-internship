{
 "cells": [
  {
   "cell_type": "code",
   "execution_count": 2,
   "id": "71bae3cc",
   "metadata": {},
   "outputs": [],
   "source": [
    "import pandas as pd\n",
    "\n",
    "path_rating = r\"C:\\Users\\R\\Downloads\\archive(12)\\ml-latest-small\\ratings.csv\"\n",
    "path_movies = r\"C:\\Users\\R\\Downloads\\archive(12)\\ml-latest-small\\movies.csv\"\n",
    "\n",
    "ratings = pd.read_csv(path_rating)\n",
    "movies = pd.read_csv(path_movies)\n"
   ]
  },
  {
   "cell_type": "code",
   "execution_count": 3,
   "id": "5d0f8c38",
   "metadata": {},
   "outputs": [
    {
     "data": {
      "text/html": [
       "<div>\n",
       "<style scoped>\n",
       "    .dataframe tbody tr th:only-of-type {\n",
       "        vertical-align: middle;\n",
       "    }\n",
       "\n",
       "    .dataframe tbody tr th {\n",
       "        vertical-align: top;\n",
       "    }\n",
       "\n",
       "    .dataframe thead th {\n",
       "        text-align: right;\n",
       "    }\n",
       "</style>\n",
       "<table border=\"1\" class=\"dataframe\">\n",
       "  <thead>\n",
       "    <tr style=\"text-align: right;\">\n",
       "      <th></th>\n",
       "      <th>userId</th>\n",
       "      <th>movieId</th>\n",
       "      <th>rating</th>\n",
       "      <th>timestamp</th>\n",
       "    </tr>\n",
       "  </thead>\n",
       "  <tbody>\n",
       "    <tr>\n",
       "      <th>0</th>\n",
       "      <td>1</td>\n",
       "      <td>1</td>\n",
       "      <td>4.0</td>\n",
       "      <td>964982703</td>\n",
       "    </tr>\n",
       "    <tr>\n",
       "      <th>1</th>\n",
       "      <td>1</td>\n",
       "      <td>3</td>\n",
       "      <td>4.0</td>\n",
       "      <td>964981247</td>\n",
       "    </tr>\n",
       "    <tr>\n",
       "      <th>2</th>\n",
       "      <td>1</td>\n",
       "      <td>6</td>\n",
       "      <td>4.0</td>\n",
       "      <td>964982224</td>\n",
       "    </tr>\n",
       "    <tr>\n",
       "      <th>3</th>\n",
       "      <td>1</td>\n",
       "      <td>47</td>\n",
       "      <td>5.0</td>\n",
       "      <td>964983815</td>\n",
       "    </tr>\n",
       "    <tr>\n",
       "      <th>4</th>\n",
       "      <td>1</td>\n",
       "      <td>50</td>\n",
       "      <td>5.0</td>\n",
       "      <td>964982931</td>\n",
       "    </tr>\n",
       "  </tbody>\n",
       "</table>\n",
       "</div>"
      ],
      "text/plain": [
       "   userId  movieId  rating  timestamp\n",
       "0       1        1     4.0  964982703\n",
       "1       1        3     4.0  964981247\n",
       "2       1        6     4.0  964982224\n",
       "3       1       47     5.0  964983815\n",
       "4       1       50     5.0  964982931"
      ]
     },
     "execution_count": 3,
     "metadata": {},
     "output_type": "execute_result"
    }
   ],
   "source": [
    "ratings.head()"
   ]
  },
  {
   "cell_type": "code",
   "execution_count": 4,
   "id": "9f23aa31",
   "metadata": {},
   "outputs": [
    {
     "data": {
      "text/html": [
       "<div>\n",
       "<style scoped>\n",
       "    .dataframe tbody tr th:only-of-type {\n",
       "        vertical-align: middle;\n",
       "    }\n",
       "\n",
       "    .dataframe tbody tr th {\n",
       "        vertical-align: top;\n",
       "    }\n",
       "\n",
       "    .dataframe thead th {\n",
       "        text-align: right;\n",
       "    }\n",
       "</style>\n",
       "<table border=\"1\" class=\"dataframe\">\n",
       "  <thead>\n",
       "    <tr style=\"text-align: right;\">\n",
       "      <th></th>\n",
       "      <th>movieId</th>\n",
       "      <th>title</th>\n",
       "      <th>genres</th>\n",
       "    </tr>\n",
       "  </thead>\n",
       "  <tbody>\n",
       "    <tr>\n",
       "      <th>0</th>\n",
       "      <td>1</td>\n",
       "      <td>Toy Story (1995)</td>\n",
       "      <td>Adventure|Animation|Children|Comedy|Fantasy</td>\n",
       "    </tr>\n",
       "    <tr>\n",
       "      <th>1</th>\n",
       "      <td>2</td>\n",
       "      <td>Jumanji (1995)</td>\n",
       "      <td>Adventure|Children|Fantasy</td>\n",
       "    </tr>\n",
       "    <tr>\n",
       "      <th>2</th>\n",
       "      <td>3</td>\n",
       "      <td>Grumpier Old Men (1995)</td>\n",
       "      <td>Comedy|Romance</td>\n",
       "    </tr>\n",
       "    <tr>\n",
       "      <th>3</th>\n",
       "      <td>4</td>\n",
       "      <td>Waiting to Exhale (1995)</td>\n",
       "      <td>Comedy|Drama|Romance</td>\n",
       "    </tr>\n",
       "    <tr>\n",
       "      <th>4</th>\n",
       "      <td>5</td>\n",
       "      <td>Father of the Bride Part II (1995)</td>\n",
       "      <td>Comedy</td>\n",
       "    </tr>\n",
       "  </tbody>\n",
       "</table>\n",
       "</div>"
      ],
      "text/plain": [
       "   movieId                               title  \\\n",
       "0        1                    Toy Story (1995)   \n",
       "1        2                      Jumanji (1995)   \n",
       "2        3             Grumpier Old Men (1995)   \n",
       "3        4            Waiting to Exhale (1995)   \n",
       "4        5  Father of the Bride Part II (1995)   \n",
       "\n",
       "                                        genres  \n",
       "0  Adventure|Animation|Children|Comedy|Fantasy  \n",
       "1                   Adventure|Children|Fantasy  \n",
       "2                               Comedy|Romance  \n",
       "3                         Comedy|Drama|Romance  \n",
       "4                                       Comedy  "
      ]
     },
     "execution_count": 4,
     "metadata": {},
     "output_type": "execute_result"
    }
   ],
   "source": [
    "movies.head()"
   ]
  },
  {
   "cell_type": "code",
   "execution_count": 5,
   "id": "92ebec76",
   "metadata": {},
   "outputs": [
    {
     "name": "stdout",
     "output_type": "stream",
     "text": [
      "<class 'pandas.core.frame.DataFrame'>\n",
      "RangeIndex: 100836 entries, 0 to 100835\n",
      "Data columns (total 4 columns):\n",
      " #   Column     Non-Null Count   Dtype  \n",
      "---  ------     --------------   -----  \n",
      " 0   userId     100836 non-null  int64  \n",
      " 1   movieId    100836 non-null  int64  \n",
      " 2   rating     100836 non-null  float64\n",
      " 3   timestamp  100836 non-null  int64  \n",
      "dtypes: float64(1), int64(3)\n",
      "memory usage: 3.1 MB\n"
     ]
    }
   ],
   "source": [
    "ratings.info()"
   ]
  },
  {
   "cell_type": "code",
   "execution_count": 6,
   "id": "cfb39859",
   "metadata": {},
   "outputs": [
    {
     "name": "stdout",
     "output_type": "stream",
     "text": [
      "<class 'pandas.core.frame.DataFrame'>\n",
      "RangeIndex: 9742 entries, 0 to 9741\n",
      "Data columns (total 3 columns):\n",
      " #   Column   Non-Null Count  Dtype \n",
      "---  ------   --------------  ----- \n",
      " 0   movieId  9742 non-null   int64 \n",
      " 1   title    9742 non-null   object\n",
      " 2   genres   9742 non-null   object\n",
      "dtypes: int64(1), object(2)\n",
      "memory usage: 228.5+ KB\n"
     ]
    }
   ],
   "source": [
    "movies.info()"
   ]
  },
  {
   "cell_type": "code",
   "execution_count": null,
   "id": "1161995b",
   "metadata": {},
   "outputs": [
    {
     "data": {
      "text/plain": [
       "userId       0\n",
       "movieId      0\n",
       "rating       0\n",
       "timestamp    0\n",
       "dtype: int64"
      ]
     },
     "execution_count": 11,
     "metadata": {},
     "output_type": "execute_result"
    }
   ],
   "source": [
    "ratings.isnull().sum()\n",
    "movies.isnull().sum()"
   ]
  },
  {
   "cell_type": "code",
   "execution_count": null,
   "id": "4fc730bc",
   "metadata": {},
   "outputs": [
    {
     "name": "stdout",
     "output_type": "stream",
     "text": [
      "(610, 9724)\n"
     ]
    }
   ],
   "source": [
    "user_item_matrix = ratings.pivot(index='userId',columns='movieId',values='rating') #userxmovies\n",
    "user_item_matrix.fillna(0, inplace=True)\n",
    "\n",
    "print(user_item_matrix.shape)"
   ]
  },
  {
   "cell_type": "code",
   "execution_count": 13,
   "id": "995a7aa7",
   "metadata": {},
   "outputs": [],
   "source": [
    "from sklearn.metrics.pairwise import cosine_similarity\n",
    "\n",
    "item_similarity = cosine_similarity(user_item_matrix.T) #1~0\n",
    "item_similarity_df = pd.DataFrame(item_similarity,\n",
    "                                  index=user_item_matrix.columns,\n",
    "                                  columns=user_item_matrix.columns) #movieIDxmovieID (value=similarity)"
   ]
  },
  {
   "cell_type": "code",
   "execution_count": 20,
   "id": "845b7d9d",
   "metadata": {},
   "outputs": [],
   "source": [
    "import numpy as np\n",
    "\n",
    "def predict_ratings_item_based(user_id,user_item_matrix,similarity_matrix):\n",
    "  user_ratings = user_item_matrix.loc[user_id].values\n",
    "  nominator = similarity_matrix.dot(user_ratings) \n",
    "  dominator = np.abs(similarity_matrix).sum(axis=1)\n",
    "  weighted_ratings = nominator/dominator\n",
    "  return pd.Series(weighted_ratings,index=user_item_matrix.columns)"
   ]
  },
  {
   "cell_type": "code",
   "execution_count": null,
   "id": "9b4d6e97",
   "metadata": {},
   "outputs": [],
   "source": [
    "def recommend_movies_item_based(user_id,user_item_matrix,similarity_matrix,movies,top_n=10):\n",
    "  predicts = predict_ratings_item_based(user_id, user_item_matrix, similarity_matrix)\n",
    "  seen_movies = user_item_matrix.loc[user_id][user_item_matrix.loc[user_id] > 0].index\n",
    "  predicts = predicts.drop(seen_movies)\n",
    "  top_recs = predicts.sort_values(ascending=False).head(top_n)\n",
    "  \n",
    "  return movies[movies['movieId'].isin(top_recs.index)]"
   ]
  },
  {
   "cell_type": "code",
   "execution_count": 22,
   "id": "8a056bc6",
   "metadata": {},
   "outputs": [
    {
     "name": "stdout",
     "output_type": "stream",
     "text": [
      "      movieId                                           title  \\\n",
      "414       476                             Inkwell, The (1994)   \n",
      "666       876  Supercop 2 (Project S) (Chao ji ji hua) (1993)   \n",
      "2116     2812                              In Too Deep (1999)   \n",
      "4224     6145                                    Venom (1982)   \n",
      "6846    61697                           Righteous Kill (2008)   \n",
      "\n",
      "                            genres  \n",
      "414                   Comedy|Drama  \n",
      "666   Action|Comedy|Crime|Thriller  \n",
      "2116               Action|Thriller  \n",
      "4224               Horror|Thriller  \n",
      "6846        Crime|Mystery|Thriller  \n"
     ]
    }
   ],
   "source": [
    "print(recommend_movies_item_based(1, user_item_matrix, item_similarity_df, movies, top_n=5))\n"
   ]
  },
  {
   "cell_type": "code",
   "execution_count": 26,
   "id": "5da4e1c2",
   "metadata": {},
   "outputs": [],
   "source": [
    "def precision_at_k_item_based(user_id, user_item_matrix, similarity_matrix, k=10, threshold=3.5):\n",
    "    # Get item-based predictions\n",
    "    preds = predict_ratings_item_based(user_id, user_item_matrix, similarity_matrix)\n",
    "    \n",
    "    # Sort predictions\n",
    "    user_preds = preds.sort_values(ascending=False).head(k)\n",
    "    \n",
    "    # Movies the user has already rated\n",
    "    seen_movies = user_item_matrix.loc[user_id][user_item_matrix.loc[user_id] > 0].index\n",
    "    \n",
    "    # Relevant items: actual ratings > threshold\n",
    "    relevant_items = user_item_matrix.loc[user_id][user_item_matrix.loc[user_id] >= threshold].index\n",
    "    \n",
    "    # Recommended items (unseen, top-K)\n",
    "    recommended = [i for i in user_preds.index if i not in seen_movies]\n",
    "    \n",
    "    # Precision@K\n",
    "    hits = len(set(recommended) & set(relevant_items))\n",
    "    return hits / k if k > 0 else 0\n"
   ]
  },
  {
   "cell_type": "code",
   "execution_count": 27,
   "id": "2777df09",
   "metadata": {},
   "outputs": [
    {
     "name": "stdout",
     "output_type": "stream",
     "text": [
      "Precision@10 for User 1 (Item-Based CF): 0.0\n"
     ]
    }
   ],
   "source": [
    "print(\"Precision@10 for User 1 (Item-Based CF):\", precision_at_k_item_based(1, user_item_matrix, item_similarity_df, k=10))\n"
   ]
  },
  {
   "cell_type": "code",
   "execution_count": 30,
   "id": "df580710",
   "metadata": {},
   "outputs": [],
   "source": [
    "from scipy.sparse.linalg import svds\n",
    "\n",
    "R = user_item_matrix.values\n",
    "user_ratings_mean = np.mean(R, axis=1)\n",
    "R_demeaned = R - user_ratings_mean.reshape(-1,1)\n",
    "\n",
    "U, sigma, Vt = svds(R_demeaned, k=50)\n",
    "sigma = np.diag(sigma)\n",
    "\n",
    "all_user_predicted_ratings = np.dot(np.dot(U, sigma), Vt) + user_ratings_mean.reshape(-1,1)\n",
    "pred_df = pd.DataFrame(all_user_predicted_ratings,columns=user_item_matrix.columns,index=user_item_matrix.index)"
   ]
  },
  {
   "cell_type": "code",
   "execution_count": 31,
   "id": "44b79335",
   "metadata": {},
   "outputs": [],
   "source": [
    "def recommend_movies_svd(user_id, preds_df, user_item_matrix, movies, top_n=10):\n",
    "    user_row = preds_df.loc[user_id].sort_values(ascending=False)\n",
    "    seen_movies = user_item_matrix.loc[user_id][user_item_matrix.loc[user_id] > 0].index\n",
    "    recs = user_row.drop(seen_movies).head(top_n)\n",
    "    return movies[movies['movieId'].isin(recs.index)]"
   ]
  },
  {
   "cell_type": "code",
   "execution_count": 32,
   "id": "7bbac986",
   "metadata": {},
   "outputs": [
    {
     "name": "stdout",
     "output_type": "stream",
     "text": [
      "      movieId                           title                 genres\n",
      "659       858           Godfather, The (1972)            Crime|Drama\n",
      "793      1036                 Die Hard (1988)  Action|Crime|Thriller\n",
      "922      1221  Godfather: Part II, The (1974)            Crime|Drama\n",
      "1067     1387                     Jaws (1975)          Action|Horror\n",
      "1445     1968      Breakfast Club, The (1985)           Comedy|Drama\n"
     ]
    }
   ],
   "source": [
    "print(recommend_movies_svd(1, pred_df, user_item_matrix, movies, top_n=5))"
   ]
  },
  {
   "cell_type": "code",
   "execution_count": 33,
   "id": "143db443",
   "metadata": {},
   "outputs": [],
   "source": [
    "def precision_at_k_svd(user_id, preds_df, user_item_matrix, k=10, threshold=3.5):\n",
    "    # Get SVD-based predictions for this user\n",
    "    user_preds = preds_df.loc[user_id].sort_values(ascending=False).head(k)\n",
    "    \n",
    "    # Movies the user has already rated\n",
    "    seen_movies = user_item_matrix.loc[user_id][user_item_matrix.loc[user_id] > 0].index\n",
    "    \n",
    "    # Relevant items: actual ratings > threshold\n",
    "    relevant_items = user_item_matrix.loc[user_id][user_item_matrix.loc[user_id] >= threshold].index\n",
    "    \n",
    "    # Recommended items (unseen, top-K)\n",
    "    recommended = [i for i in user_preds.index if i not in seen_movies]\n",
    "    \n",
    "    # Precision@K\n",
    "    hits = len(set(recommended) & set(relevant_items))\n",
    "    return hits / k if k > 0 else 0\n"
   ]
  },
  {
   "cell_type": "code",
   "execution_count": 34,
   "id": "d15f8681",
   "metadata": {},
   "outputs": [
    {
     "name": "stdout",
     "output_type": "stream",
     "text": [
      "Precision@10 for User 1 (SVD): 0.0\n"
     ]
    }
   ],
   "source": [
    "print(\"Precision@10 for User 1 (SVD):\", \n",
    "      precision_at_k_svd(1, pred_df, user_item_matrix, k=10))\n"
   ]
  }
 ],
 "metadata": {
  "kernelspec": {
   "display_name": "Python (tfenv)",
   "language": "python",
   "name": "tfenv"
  },
  "language_info": {
   "codemirror_mode": {
    "name": "ipython",
    "version": 3
   },
   "file_extension": ".py",
   "mimetype": "text/x-python",
   "name": "python",
   "nbconvert_exporter": "python",
   "pygments_lexer": "ipython3",
   "version": "3.13.5"
  }
 },
 "nbformat": 4,
 "nbformat_minor": 5
}
